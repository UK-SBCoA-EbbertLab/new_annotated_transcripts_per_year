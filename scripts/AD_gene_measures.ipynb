{
 "cells": [
  {
   "cell_type": "markdown",
   "id": "b40cead4",
   "metadata": {},
   "source": [
    "# Library Import and Functions"
   ]
  },
  {
   "cell_type": "code",
   "execution_count": 1,
   "id": "d8ae625f",
   "metadata": {},
   "outputs": [],
   "source": [
    "## Import Libraries\n",
    "import pandas as pd\n",
    "import numpy as np\n",
    "from matplotlib_venn import venn2, venn2_circles, venn2_unweighted\n",
    "from matplotlib_venn import venn3, venn3_circles\n",
    "from matplotlib import pyplot as plt\n",
    "%matplotlib inline\n",
    "import seaborn as sns\n",
    "from wordcloud import WordCloud\n",
    "import re\n",
    "\n",
    "\n",
    "## Display all rows of pandas dataframes\n",
    "pd.set_option('display.max_rows', None)\n",
    "pd.set_option('display.max_colwidth', None)"
   ]
  },
  {
   "cell_type": "code",
   "execution_count": 2,
   "id": "47920e41",
   "metadata": {},
   "outputs": [],
   "source": [
    "'''\n",
    "name: extract_transcript_id\n",
    "\n",
    "input: GTF attribute column\n",
    "\n",
    "output: transcript_id for each entry\n",
    "\n",
    "purpose: Creating a transcript_id columns from attributes column in GTF\n",
    "'''\n",
    "\n",
    "\n",
    "def extract_transcript_id(attributes):\n",
    "    match = re.search('transcript_id \"([^\"]+)', attributes)\n",
    "    return match.group(1) if match else None"
   ]
  },
  {
   "cell_type": "code",
   "execution_count": 3,
   "id": "f27e634a",
   "metadata": {},
   "outputs": [],
   "source": [
    "'''\n",
    "name: relative_transcript_abundance\n",
    "\n",
    "purpose: calculate relative transcript abundance\n",
    "\n",
    "input: a dataframe with a ref_gene_id column identifying the transcript gene of origin and a cov columns with \n",
    "the coverage for the transcripts.\n",
    "\n",
    "output: the same dataframe with a relative abundance column added\n",
    "'''\n",
    "\n",
    "\n",
    "\n",
    "def relative_transcript_abundance(df):\n",
    "    \n",
    "    df_sums = df[[\"gene_id\", \"total_CPM\"]].groupby(\"gene_id\").sum()\n",
    "    \n",
    "    df_sums[\"total_CPM_gene\"] = df_sums[\"total_CPM\"]\n",
    "\n",
    "    df_sums.drop(columns=\"total_CPM\", inplace=True)\n",
    "    \n",
    "    merged_df = pd.merge(df, df_sums, how='inner', on=\"gene_id\")\n",
    "    \n",
    "    merged_df[\"relative_abundance_percent\"] = ((merged_df[\"total_CPM\"]/merged_df[\"total_CPM_gene\"]) * 100)\n",
    "    \n",
    "    merged_df[\"total_CPM_transcript\"] = merged_df[\"total_CPM\"]\n",
    "    \n",
    "    merged_df.drop(columns=\"total_CPM\", inplace=True)\n",
    "\n",
    "\n",
    "    return merged_df"
   ]
  },
  {
   "cell_type": "code",
   "execution_count": 4,
   "id": "a6446e95",
   "metadata": {},
   "outputs": [],
   "source": [
    "'''\n",
    "function name: fix_column_names\n",
    "\n",
    "purpose: Fixing the column names, making them smaller, informative, and consistent\n",
    "\n",
    "input: The raw counts dataframe for either genes or transcripts \n",
    "\n",
    "output: Same dataframe with improved column names\n",
    "'''\n",
    "\n",
    "def fix_column_names(df, is_gene=False):\n",
    "    \n",
    "    ## Check if this is a gene counts object\n",
    "    if is_gene:\n",
    "        \n",
    "        ## Get count column names and create list of new column names\n",
    "        count_columns = df.columns.tolist()\n",
    "        list_new_names = [\"gene_id\"]\n",
    "        \n",
    "        ## gene_id comes in as index for gene counts data, make it into the first column instead\n",
    "        df[\"gene_id\"] = df.index\n",
    "        cols = list(df.columns)\n",
    "        cols = [cols[-1]] + cols[:-1]\n",
    "        df = df[cols]\n",
    "        df.reset_index(inplace=True, drop=True)\n",
    "    \n",
    "    ## If it is a transcript dataset\n",
    "    else:\n",
    "        ## Set count columns and create list of new names\n",
    "        count_columns = df.columns[2:].tolist()\n",
    "        list_new_names = [ \"transcript_id\", \"gene_id\"]\n",
    "    \n",
    "    ## Fix names one by one and add to list of new names\n",
    "    for col in count_columns:\n",
    "        col = col.split(\"_mapped\")[0] + \"_counts\"\n",
    "        list_new_names.append(col)\n",
    "    \n",
    "    ## Rename columns\n",
    "    df.columns = list_new_names\n",
    "    \n",
    "    return df "
   ]
  },
  {
   "cell_type": "code",
   "execution_count": 5,
   "id": "143176a3",
   "metadata": {},
   "outputs": [],
   "source": [
    "'''\n",
    "function name: parse_df_columns\n",
    "\n",
    "purpose: parsing the last aggregate column of the gtf/gff3 into useful columns and cleaning non-relevant columns\n",
    "\n",
    "input: dataframe containining \"raw\" gtf/gff\n",
    "\n",
    "output: dataframe containing gtf with useful columns [\"gene_id\", \"transcript_id\", etc...]\n",
    "'''\n",
    "\n",
    "def parse_df_columns(df, is_ref=True, is_transcript=False, is_prot=False):\n",
    "\n",
    "    if is_ref:\n",
    "\n",
    "        ## Get gene ids\n",
    "        df[\"gene_id\"] = df[\"other\"].str.split('\";', expand=True)[0].str.extract(\"([^ \\\"]*$)\", expand=True)\n",
    "        \n",
    "        ## Get gene names\n",
    "        df[\"gene_name\"] = df[\"other\"].str.split(\"gene_name \\\"\", expand=True)[1].str.split('\\\";', expand=True)[0]\n",
    "        \n",
    "        ## Get get transcript biotype\n",
    "        df[\"gene_biotype\"] = df[\"other\"].str.split('gene_biotype \"', expand=True)[1].str.split('\"', expand=True)[0]\n",
    "        \n",
    "        ## If is transcript get transcript id and transcript biotype\n",
    "        if is_transcript:\n",
    "            df[\"transcript_id\"] = df[\"other\"].str.split('transcript_id \"', expand=True)[1].str.split('\"', expand=True)[0]\n",
    "            df[\"transcript_biotype\"] = df[\"other\"].str.split('transcript_biotype \"', expand=True)[1].str.split('\"', expand=True)[0]\n",
    "            \n",
    "            ## If is prot get protein_id\n",
    "            if is_prot:\n",
    "                df[\"protein_id\"] = df[\"other\"].str.split('protein_id \"', expand=True)[1].str.split('\"', expand=True)[0]\n",
    "                df[\"ccds_id\"] = df[\"other\"].str.split('ccds_id \"', expand=True)[1].str.split('\"', expand=True)[0]\n",
    "                df[\"exon_number\"] = df[\"other\"].str.split('exon_number \"', expand=True)[1].str.split('\"', expand=True)[0]\n",
    "\n",
    "        ## Drop \"other\" column\n",
    "        df.drop(columns=[\"other\", \"dot_1\", \"dot_2\"], inplace=True)\n",
    "        \n",
    "\n",
    "    else:\n",
    "\n",
    "        ## Get gene ids\n",
    "        df[\"gene_id\"] = df[\"other\"].str.split('\";', expand=True)[0].str.extract(\"([^ \\\"]*$)\", expand=True)\n",
    "\n",
    "        ## Get transcript ids\n",
    "        df[\"transcript_id\"] = df[\"other\"].str.split('transcript_id \"', expand=True)[1].str.split('\"', expand=True)[0]\n",
    "\n",
    "        ## Get exon number\n",
    "        df[\"exon_number\"] = df[\"other\"].str.split('exon_number \"', expand=True)[1].str.split('\"', expand=True)[0]\n",
    "\n",
    "        ## Drop \"other\" column\n",
    "        df.drop(columns=[\"other\", \"dot_1\", \"dot_2\"], inplace=True)\n",
    "\n",
    "    for col in df.columns:\n",
    "        df.loc[df[col].isnull(), col] = np.NaN\n",
    "        \n",
    "\n",
    "    return df"
   ]
  },
  {
   "cell_type": "code",
   "execution_count": 6,
   "id": "b1117a08",
   "metadata": {},
   "outputs": [],
   "source": [
    "'''\n",
    "function name: calculate_cpm\n",
    "\n",
    "purpose: Calculate CPM for the each sample given\n",
    "\n",
    "input: Counts dataset\n",
    "\n",
    "output: Counts dataset with CPM columns as well\n",
    "'''\n",
    "\n",
    "def calculate_cpm(df, is_gene=False):\n",
    "\n",
    "    ## Set count columns if dataframe is gene counts\n",
    "    if is_gene:\n",
    "        count_columns = df.columns[1:].tolist()\n",
    "    \n",
    "    ## Set count columns if dataframe is transcript counts\n",
    "    else:\n",
    "        count_columns = df.columns[2:].tolist()\n",
    "\n",
    "    ## Loop through counts columns to calculate CPM and add to the dataframe\n",
    "    for col in count_columns:\n",
    "        \n",
    "        df[col] = round(df[col], 2)\n",
    "        cpm_name = col.replace(\"_counts\", \"_CPM\")\n",
    "        df[cpm_name] = round(((df[col]/(df[col].sum())) * 1000000), 2)\n",
    "    \n",
    "    return df  "
   ]
  },
  {
   "cell_type": "markdown",
   "id": "1c4e5a7d",
   "metadata": {},
   "source": [
    "### Import 2023 reference and disease gene lists"
   ]
  },
  {
   "cell_type": "code",
   "execution_count": 7,
   "id": "dfa4bd6d",
   "metadata": {},
   "outputs": [],
   "source": [
    "## Open original reference\n",
    "ref_2023 = pd.read_csv(\"../references/Homo_sapiens.GRCh38.109.gtf\", header=None, delimiter=\"\\t\", low_memory=False, \n",
    "                       names=[\"chr\", \"source\", \"type\", \"start\", \"end\", \"dot_1\", \"strand\", \"dot_2\", \"other\"], comment=\"#\")\n",
    "\n",
    "ref_2023 = ref_2023.loc[~ref_2023[\"chr\"].str.startswith(\"ERCC-\")]\n",
    "\n",
    "## Parse through reference to get gene names and ids\n",
    "gene_ref_2023 = ref_2023.loc[ref_2023[\"type\"]==\"gene\"].copy()\n",
    "gene_ref_2023 = parse_df_columns(gene_ref_2023, is_ref=True)\n",
    "\n",
    "## Create 2023 transcript ref\n",
    "transcript_ref_2023 = ref_2023.loc[ref_2023[\"type\"]==\"transcript\"].copy()\n",
    "transcript_ref_2023 = parse_df_columns(transcript_ref_2023, is_ref=True, is_transcript=True)\n",
    "\n",
    "## Import disease relevant genes\n",
    "disease_relevant_genes = pd.read_csv(\"../references/medically_relevant_genes.tsv\", sep=\"\\t\")\n",
    "\n",
    "## Brain disease genes\n",
    "brain_disease_gene_ids = pd.read_csv(\"../references/brain_disease_genes_only_IDs.tsv\", sep=\"\\t\")\n",
    "brain_disease_annotations = pd.read_csv(\"../references/brain_disease_genes_with_disease.tsv\", sep=\"\\t\")\n",
    "\n",
    "\n",
    "## Create disease relevant list including chromosome\n",
    "disease_relevant_genes_annotated = disease_relevant_genes.merge(gene_ref_2023[[\"gene_id\", \"gene_name\", \"chr\"]], \n",
    "                                                               how=\"inner\", on=[\"gene_id\", \"gene_name\"])\n",
    "\n",
    "## Create list of protein coding genes\n",
    "protein_coding_ref_2023 = gene_ref_2023.loc[gene_ref_2023[\"gene_biotype\"] == \"protein_coding\"].copy()"
   ]
  },
  {
   "cell_type": "code",
   "execution_count": 10,
   "id": "987c2d42",
   "metadata": {},
   "outputs": [],
   "source": [
    "## Get Alzheimer's risk gene ids\n",
    "ad_gene_ids = brain_disease_annotations.loc[brain_disease_annotations[\"disease\"] == \"AD\"][\"gene_id\"].copy()"
   ]
  },
  {
   "cell_type": "code",
   "execution_count": 11,
   "id": "18aa44ea",
   "metadata": {},
   "outputs": [],
   "source": [
    "## Only keep transcripts from AD risk genes\n",
    "transcript_ref_2023_ad = transcript_ref_2023.loc[transcript_ref_2023[\"gene_id\"].isin(ad_gene_ids)].copy()"
   ]
  },
  {
   "cell_type": "code",
   "execution_count": 12,
   "id": "1e5b051e",
   "metadata": {},
   "outputs": [],
   "source": [
    "## Average number of transcripts per AD risk gene\n",
    "transcripts_per_ad_risk_gene = (transcript_ref_2023_ad[\"transcript_id\"].nunique()/transcript_ref_2023_ad[\"gene_id\"].nunique())"
   ]
  },
  {
   "cell_type": "code",
   "execution_count": 14,
   "id": "1761c021",
   "metadata": {},
   "outputs": [],
   "source": [
    "## Parse through 2023 GTF 109 Ensembl reference to get transcript biotypes\n",
    "ref_2023_types = ref_2023.loc[ref_2023[\"type\"]==\"transcript\"].copy()\n",
    "ref_2023_types = parse_df_columns(ref_2023_types, is_ref=True, is_transcript=True)\n",
    "\n",
    "## Make reference only including protein coding transcripts with a defined CDS\n",
    "ref_2023_cds = ref_2023.loc[ref_2023[\"type\"]==\"CDS\"].copy()\n",
    "ref_2023_cds = parse_df_columns(ref_2023_cds, is_ref=True, is_transcript=True, is_prot=True)\n",
    "\n",
    "ref_2023_cds = ref_2023_cds.loc[ref_2023_cds[\"transcript_biotype\"] == \"protein_coding\"].copy()\n",
    "\n",
    "## Create unique identifier for protein id based on individual CDS entries for the protein\n",
    "\n",
    "## Create datagrame for unique protein id \n",
    "unique_protein_id = pd.DataFrame()\n",
    "\n",
    "## Create a reference with columns as strings instead of integers so they can be concatenated\n",
    "string_ref_2023_cds = ref_2023_cds[['protein_id', 'start', 'end', \"chr\", \"strand\"]].copy().astype(str)\n",
    "\n",
    "## Join the coordinates for all CDS based on protein id to create a unique identifier\n",
    "unique_protein_id = string_ref_2023_cds.groupby(['protein_id'])[[\"protein_id\", \"chr\", \"strand\",\n",
    "                                                                 \"start\", \"end\"]].transform(lambda x: '-'.join(x))\n",
    "\n",
    "## Add protein id column\n",
    "unique_protein_id[\"protein_id\"] = unique_protein_id[\"protein_id\"].str.split(\"-\", expand=True)[0]\n",
    "\n",
    "## Add unique identifier column\n",
    "unique_protein_id[\"unique_identifier\"] = \"Chromosome: \" + unique_protein_id[\"chr\"].str.split(\"-\", expand=True)[0] + \"\\n\" \\\n",
    "                                            + \"Strand: \" + unique_protein_id[\"strand\"].str.split(\"-\", expand=True)[0] + \"\\n\" \\\n",
    "                                            + \"Start coordinates: \" + unique_protein_id[\"start\"].copy() \\\n",
    "                                            + \"End coordinates:\" + unique_protein_id[\"end\"].copy()\n",
    "\n",
    "## Drop all columns besided protein id and unique identifier\n",
    "unique_protein_id = unique_protein_id[[\"protein_id\", \"unique_identifier\"]].copy()\n",
    "\n",
    "## Drop any duplicates\n",
    "unique_protein_id.drop_duplicates(inplace=True)\n",
    "\n",
    "## Get transcript_id column back by merging on index with ref_2023_cds\n",
    "unique_protein_id = unique_protein_id.merge(ref_2023_cds[\"transcript_id\"], left_index=True, right_index=True)\n",
    "\n",
    "## Merge back to ref_2023_cds on protein_id and transcript id to so we can add unique identifier\n",
    "ref_2023_cds = ref_2023_cds.merge(unique_protein_id, on=[\"protein_id\", \"transcript_id\"], how=\"inner\")\n",
    "\n",
    "## Make protein coding ID into unique identifier\n",
    "ref_2023_cds[\"protein_id\"] = ref_2023_cds[\"unique_identifier\"].copy()\n",
    "ref_2023_cds.drop(columns=\"unique_identifier\", inplace=True)\n",
    "\n",
    "## Create final CDS reference only containing non NA valued for protein id\n",
    "ref_cds = ref_2023_cds.loc[~ref_2023_cds[\"protein_id\"].isna()].copy()\n",
    "\n",
    "## Only keep transcript id and unique protein id in the ref_cds final reference\n",
    "ref_cds = ref_cds[[\"transcript_id\", \"protein_id\"]].copy().drop_duplicates()"
   ]
  },
  {
   "cell_type": "code",
   "execution_count": 16,
   "id": "500fb40c",
   "metadata": {},
   "outputs": [],
   "source": [
    "## Get protein coding AD transcripts and their unique protein ids\n",
    "ref_cds_ad = ref_cds.loc[ref_cds[\"transcript_id\"].isin(transcript_ref_2023_ad[\"transcript_id\"])].copy()"
   ]
  },
  {
   "cell_type": "code",
   "execution_count": 18,
   "id": "a6fa8078",
   "metadata": {},
   "outputs": [
    {
     "name": "stdout",
     "output_type": "stream",
     "text": [
      "5.135135135135135\n"
     ]
    }
   ],
   "source": [
    "print((ref_cds_ad[\"protein_id\"].nunique()/transcript_ref_2023_ad[\"gene_id\"].nunique()))"
   ]
  },
  {
   "cell_type": "markdown",
   "id": "80234ded",
   "metadata": {},
   "source": [
    "## Create reference for protein coding sequences"
   ]
  },
  {
   "cell_type": "code",
   "execution_count": 26,
   "id": "20492add",
   "metadata": {},
   "outputs": [],
   "source": [
    "## Parse through 2023 GTF 109 Ensembl reference to get transcript biotypes\n",
    "ref_2023_types = ref_2023.loc[ref_2023[\"type\"]==\"transcript\"].copy()\n",
    "ref_2023_types = parse_df_columns(ref_2023_types, is_ref=True, is_transcript=True)\n",
    "\n",
    "## Make reference only including protein coding transcripts with a defined CDS\n",
    "ref_2023_cds = ref_2023.loc[ref_2023[\"type\"]==\"CDS\"].copy()\n",
    "ref_2023_cds = parse_df_columns(ref_2023_cds, is_ref=True, is_transcript=True, is_prot=True)\n",
    "\n",
    "ref_2023_cds = ref_2023_cds.loc[ref_2023_cds[\"transcript_biotype\"] == \"protein_coding\"].copy()\n",
    "\n",
    "## Create unique identifier for protein id based on individual CDS entries for the protein\n",
    "\n",
    "## Create datagrame for unique protein id \n",
    "unique_protein_id = pd.DataFrame()\n",
    "\n",
    "## Create a reference with columns as strings instead of integers so they can be concatenated\n",
    "string_ref_2023_cds = ref_2023_cds[['protein_id', 'start', 'end', \"chr\", \"strand\"]].copy().astype(str)\n",
    "\n",
    "## Join the coordinates for all CDS based on protein id to create a unique identifier\n",
    "unique_protein_id = string_ref_2023_cds.groupby(['protein_id'])[[\"protein_id\", \"chr\", \"strand\",\n",
    "                                                                 \"start\", \"end\"]].transform(lambda x: '-'.join(x))\n",
    "\n",
    "## Add protein id column\n",
    "unique_protein_id[\"protein_id\"] = unique_protein_id[\"protein_id\"].str.split(\"-\", expand=True)[0]\n",
    "\n",
    "## Add unique identifier column\n",
    "unique_protein_id[\"unique_identifier\"] = \"Chromosome: \" + unique_protein_id[\"chr\"].str.split(\"-\", expand=True)[0] + \"\\n\" \\\n",
    "                                            + \"Strand: \" + unique_protein_id[\"strand\"].str.split(\"-\", expand=True)[0] + \"\\n\" \\\n",
    "                                            + \"Start coordinates: \" + unique_protein_id[\"start\"].copy() \\\n",
    "                                            + \"End coordinates:\" + unique_protein_id[\"end\"].copy()\n",
    "\n",
    "## Drop all columns besided protein id and unique identifier\n",
    "unique_protein_id = unique_protein_id[[\"protein_id\", \"unique_identifier\"]].copy()\n",
    "\n",
    "## Drop any duplicates\n",
    "unique_protein_id.drop_duplicates(inplace=True)\n",
    "\n",
    "## Get transcript_id column back by merging on index with ref_2023_cds\n",
    "unique_protein_id = unique_protein_id.merge(ref_2023_cds[\"transcript_id\"], left_index=True, right_index=True)\n",
    "\n",
    "## Merge back to ref_2023_cds on protein_id and transcript id to so we can add unique identifier\n",
    "ref_2023_cds = ref_2023_cds.merge(unique_protein_id, on=[\"protein_id\", \"transcript_id\"], how=\"inner\")\n",
    "\n",
    "## Make protein coding ID into unique identifier\n",
    "ref_2023_cds[\"protein_id\"] = ref_2023_cds[\"unique_identifier\"].copy()\n",
    "ref_2023_cds.drop(columns=\"unique_identifier\", inplace=True)\n",
    "\n",
    "## Create final CDS reference only containing non NA valued for protein id\n",
    "ref_cds = ref_2023_cds.loc[~ref_2023_cds[\"protein_id\"].isna()].copy()\n",
    "\n",
    "## Only keep transcript id and unique protein id in the ref_cds final reference\n",
    "ref_cds = ref_cds[[\"transcript_id\", \"protein_id\"]].copy().drop_duplicates()"
   ]
  },
  {
   "cell_type": "code",
   "execution_count": 27,
   "id": "e412e2db",
   "metadata": {},
   "outputs": [],
   "source": [
    "## Output references with transcripts_id and unique protein_id as a tsv to the processed data folder\n",
    "\n",
    "ref_cds.to_csv(\"../data/processed/transcript_id_and_unique_protein_id_reference.tsv\", sep=\"\\t\", index=False)"
   ]
  },
  {
   "cell_type": "markdown",
   "id": "e96bcef0",
   "metadata": {},
   "source": [
    "## Load transcript counts matrix and CPM normalize it"
   ]
  },
  {
   "cell_type": "code",
   "execution_count": 28,
   "id": "83809e4a",
   "metadata": {},
   "outputs": [],
   "source": [
    "## Load matrix\n",
    "df = pd.read_csv(\"../data/raw/counts_transcript.txt\", sep=\"\\t\")\n",
    "\n",
    "## Fix columns names\n",
    "df = fix_column_names(df.copy(), is_gene=False)\n",
    "\n",
    "## Add total counts column\n",
    "df[\"total_counts\"] = df[df.filter(regex='count').columns].copy().sum(axis=1)\n",
    "\n",
    "## CPM normalize counts matrix\n",
    "df = calculate_cpm(df.copy(), is_gene=False)\n",
    "\n",
    "## Create median CPM column\n",
    "df[\"median_CPM\"] = df[df.filter(regex='CPM').columns].copy().median(axis=1)\n",
    "\n",
    "## Drop counts columns and save dataframe\n",
    "df.drop(columns=df.filter(regex='count').columns, inplace=True)\n",
    "df.to_csv(\"../data/processed/cpm_transcript.txt\", sep=\"\\t\", index=False)"
   ]
  },
  {
   "cell_type": "markdown",
   "id": "6e817c6b",
   "metadata": {},
   "source": [
    "## Make figures looking at brain level expression of new isoforms since 2019"
   ]
  },
  {
   "cell_type": "code",
   "execution_count": 29,
   "id": "8e70812f",
   "metadata": {},
   "outputs": [],
   "source": [
    "## Only keep transcripts that are exclusive to the 2023 annotation when compared to 2019\n",
    "exclusive_2023_transcripts = transcript_ref_2023.loc[~transcript_ref_2023[\"transcript_id\"].isin(transcript_ref_2019_ids)].copy()"
   ]
  },
  {
   "cell_type": "code",
   "execution_count": 30,
   "id": "e23a0d8a",
   "metadata": {},
   "outputs": [],
   "source": [
    "## Create list of new CCDS since 2019\n",
    "\n",
    "## Get all transcript IDs from ENSEMBL 96 GTF (2019)\n",
    "cds_2019_ref = transcript_ref_2019.merge(ref_cds, how=\"inner\", on=\"transcript_id\").dropna(subset=\"protein_id\")\n",
    "cds_2019_ref_protein_ids = cds_2019_ref[\"protein_id\"].copy()\n",
    "\n",
    "## Get transcript names from ENSEMBL 109 GTF (2023)\n",
    "cds_2023_ref = transcript_ref_2023.merge(ref_cds, how=\"inner\", on=\"transcript_id\").dropna(subset=\"protein_id\")\n",
    "\n",
    "## Get ensmbl 109 (2023) exclusive protein coding sequences\n",
    "exclusive_2023_cds = cds_2023_ref.loc[~cds_2023_ref[\"transcript_id\"].isin(transcript_ref_2019_ids)].copy()\n",
    "exclusive_2023_cds = exclusive_2023_cds.loc[~exclusive_2023_cds[\"protein_id\"].isin(cds_2019_ref_protein_ids)].copy()"
   ]
  },
  {
   "cell_type": "code",
   "execution_count": 31,
   "id": "cdd989b7",
   "metadata": {},
   "outputs": [],
   "source": [
    "## Create counts matrix only including the new transcripts found after ENSEMBL 94\n",
    "\n",
    "df_exclusive_2023_transcripts = df.loc[df[\"transcript_id\"].isin(exclusive_2023_transcripts[\"transcript_id\"])].copy()\n",
    "df_exclusive_2023_ccds = df.loc[df[\"transcript_id\"].isin(exclusive_2023_cds[\"transcript_id\"])].copy()"
   ]
  },
  {
   "cell_type": "code",
   "execution_count": 32,
   "id": "c7c6156e",
   "metadata": {},
   "outputs": [],
   "source": [
    "## Create lists with numbers of 2023 exclusive transcripts expressed across CPM thresholds\n",
    "\n",
    "list_cpm_thresh = []\n",
    "\n",
    "list_2023_all_transcript_median = []\n",
    "list_2023_new_cds_transcript_median = []\n",
    "list_2023_med_relevant_transcript_median = []\n",
    "list_2023_med_relevant_new_cds_transcript_median = []\n",
    "list_2023_brain_relevant_transcript_median = []\n",
    "list_2023_brain_relevant_new_cds_transcript_median = []\n",
    "\n",
    "for i in range(0, 1000):\n",
    "    \n",
    "    cpm_thresh = i/100\n",
    "    \n",
    "    median_2023 = df_exclusive_2023_transcripts.loc[df_exclusive_2023_transcripts[\"median_CPM\"] >= cpm_thresh].copy()\n",
    "    new_cds_median_2023 = df_exclusive_2023_ccds.loc[df_exclusive_2023_ccds[\"median_CPM\"] >= cpm_thresh].copy()\n",
    "    med_relevant_median_2023 = median_2023.loc[median_2023[\"gene_id\"].isin(disease_relevant_genes[\"gene_id\"])].copy()\n",
    "    med_relevant_new_cds_median_2023 = med_relevant_median_2023.loc[med_relevant_median_2023[\"transcript_id\"].isin(new_cds_median_2023[\"transcript_id\"])].copy()\n",
    "    brain_relevant_median_2023 = median_2023.loc[median_2023[\"gene_id\"].isin(brain_disease_gene_ids[\"gene_id\"])].copy()\n",
    "    brain_relevant_new_cds_median_2023 = brain_relevant_median_2023.loc[brain_relevant_median_2023[\"transcript_id\"].isin(new_cds_median_2023[\"transcript_id\"])].copy()\n",
    "    \n",
    "    \n",
    "    \n",
    "    list_cpm_thresh.append(cpm_thresh)\n",
    "    \n",
    "    list_2023_all_transcript_median.append(median_2023.shape[0])\n",
    "    list_2023_new_cds_transcript_median.append(new_cds_median_2023.shape[0])\n",
    "    list_2023_med_relevant_transcript_median.append(med_relevant_median_2023.shape[0])\n",
    "    list_2023_med_relevant_new_cds_transcript_median.append(med_relevant_new_cds_median_2023.shape[0])\n",
    "    list_2023_brain_relevant_transcript_median.append(brain_relevant_median_2023.shape[0])\n",
    "    list_2023_brain_relevant_new_cds_transcript_median.append(brain_relevant_new_cds_median_2023.shape[0])"
   ]
  },
  {
   "cell_type": "code",
   "execution_count": 33,
   "id": "fd1de752",
   "metadata": {},
   "outputs": [
    {
     "data": {
      "image/png": "[encoded data removed]",
      "text/plain": [
       "<Figure size 708.661x354.331 with 1 Axes>"
      ]
     },
     "metadata": {},
     "output_type": "display_data"
    }
   ],
   "source": [
    "plt.plot(list_cpm_thresh, list_2023_all_transcript_median, color=ggplot2_colors[0], label=\"New transcripts since 2019\", linewidth=2, alpha=1)\n",
    "\n",
    "plt.xticks(np.arange(0, 11, 1))\n",
    "plt.xlabel('Median CPM Threshold')\n",
    "plt.ylabel('Number of Transcripts')\n",
    "plt.plot([1, 1], [-10, 49000], color=\"#4d4d4d\", label=\"Median CPM = 1\", linewidth=2, alpha=1, linestyle='dashed')\n",
    "plt.legend(labels=[\"\\nTranscripts found in ENSEMBL version 109 (2023) but\\nnot in ENSEMBL version 96 (2019)\\n\", \"\\nMedian CPM = 1\\n\"], \n",
    "           loc=\"upper right\", fontsize=7)\n",
    "\n",
    "plt.savefig('../figures/new_transcripts_since_2019_across_cpm_threshold.pdf', dpi=600, transparent=True, bbox_inches=\"tight\")"
   ]
  },
  {
   "cell_type": "code",
   "execution_count": 34,
   "id": "53d6ab2d",
   "metadata": {},
   "outputs": [
    {
     "name": "stdout",
     "output_type": "stream",
     "text": [
      "Number of new transcripts since 2019 with median CPM > 1 in our Nanopore sequenced brain samples: 2932\n"
     ]
    }
   ],
   "source": [
    "print(\"Number of new transcripts since 2019 with median CPM > 1 in our Nanopore sequenced brain samples:\", list_2023_all_transcript_median[101])"
   ]
  },
  {
   "cell_type": "code",
   "execution_count": 35,
   "id": "f670ec70",
   "metadata": {},
   "outputs": [],
   "source": [
    "df_exclusive_2023_transcripts_median = df_exclusive_2023_transcripts.loc[df_exclusive_2023_transcripts[\"median_CPM\"] > 0].copy()\n",
    "\n",
    "df_exclusive_2023_transcripts_median[\"Log10 median CPM\"] = np.log10(df_exclusive_2023_transcripts_median[\"median_CPM\"])"
   ]
  },
  {
   "cell_type": "code",
   "execution_count": 36,
   "id": "1118aac7",
   "metadata": {},
   "outputs": [
    {
     "data": {
      "image/png": "[encoded data removed]",
      "text/plain": [
       "<Figure size 708.661x354.331 with 1 Axes>"
      ]
     },
     "metadata": {},
     "output_type": "display_data"
    }
   ],
   "source": [
    "## Make average CPM > 1 gene body number of exons plot and save both as png and svg.\n",
    "\n",
    "sns.histplot(x=df_exclusive_2023_transcripts_median[\"Log10 median CPM\"], color=ggplot2_colors[0], alpha=1)\n",
    "\n",
    "plt.plot([0, 0], [0, 670], color=\"#4d4d4d\", label=\"Median CPM = 1\", linewidth=2, alpha=1, linestyle='dashed')\n",
    "\n",
    "plt.xlabel(\"Log10 median CPM (only including transcripts with median CPM > 0)\")\n",
    "plt.ylabel(\"New transcripts since 2019 (counts)\")\n",
    "plt.legend(fontsize=7)\n",
    "\n",
    "plt.savefig('../figures/cpm_distribution_new_transcripts_since_2019.pdf',\n",
    "            dpi=600, transparent=True, bbox_inches=\"tight\")\n",
    "\n",
    "plt.show()"
   ]
  },
  {
   "cell_type": "code",
   "execution_count": 37,
   "id": "f4d3a79f",
   "metadata": {},
   "outputs": [],
   "source": [
    "ensembl_2023_median_1 = df_exclusive_2023_transcripts.loc[df_exclusive_2023_transcripts[\"median_CPM\"] > 1].copy()\n",
    "ensembl_2023_new_cds_median_1 = df_exclusive_2023_ccds.loc[df_exclusive_2023_ccds[\"median_CPM\"] > 1].copy()\n",
    "\n",
    "ensembl_2023_med_relevant_median_1 = ensembl_2023_median_1.loc[ensembl_2023_median_1[\"gene_id\"].isin(disease_relevant_genes[\"gene_id\"])].copy()\n",
    "ensembl_2023_med_relevant_new_cds_median_1 = ensembl_2023_med_relevant_median_1.loc[ensembl_2023_med_relevant_median_1[\"transcript_id\"].isin(ensembl_2023_new_cds_median_1[\"transcript_id\"])].copy()\n",
    "\n",
    "ensembl_2023_brain_relevant_median_1 = ensembl_2023_median_1.loc[ensembl_2023_median_1[\"gene_id\"].isin(brain_disease_gene_ids[\"gene_id\"])].copy()\n",
    "ensembl_2023_brain_relevant_new_cds_median_1 = ensembl_2023_brain_relevant_median_1.loc[ensembl_2023_brain_relevant_median_1[\"transcript_id\"].isin(ensembl_2023_new_cds_median_1[\"transcript_id\"])].copy()"
   ]
  },
  {
   "cell_type": "code",
   "execution_count": 38,
   "id": "d5bd98a7",
   "metadata": {},
   "outputs": [],
   "source": [
    "df_barplot_2023 = pd.DataFrame()\n",
    "\n",
    "df_barplot_2023[\"New Transcript Since 2019 (Median CPM > 1)\"] = [ensembl_2023_med_relevant_median_1.shape[0], ensembl_2023_new_cds_median_1.shape[0],\n",
    "                                                                ensembl_2023_med_relevant_new_cds_median_1.shape[0],\n",
    "                                               ensembl_2023_brain_relevant_median_1.shape[0], ensembl_2023_brain_relevant_new_cds_median_1.shape[0]]\n",
    "\n",
    "df_barplot_2023[\"Description\"] = [\"Med-relevant\", \"New protein coding sequence\", \"Med-relevant new protein coding sequence\", \n",
    "                                \"Brain disease relevant\", \"Brain disease relevant new protein coding sequence\"]"
   ]
  },
  {
   "cell_type": "code",
   "execution_count": 39,
   "id": "ebc0e3c7",
   "metadata": {},
   "outputs": [
    {
     "data": {
      "image/png": "[encoded data removed]",
      "text/plain": [
       "<Figure size 708.661x354.331 with 1 Axes>"
      ]
     },
     "metadata": {},
     "output_type": "display_data"
    }
   ],
   "source": [
    "## Create and save graph showing number of genes with multiple protein coding isoforms (AVG CPM > 1)\n",
    "\n",
    "ax = sns.barplot(data=df_barplot_2023, y=\"New Transcript Since 2019 (Median CPM > 1)\", x=\"Description\", hue=\"Description\",\n",
    "            palette=[ggplot2_colors[2], ggplot2_colors[0], ggplot2_colors[5], ggplot2_colors[1], ggplot2_colors[6]], \n",
    "                 saturation=1, dodge=False, order=[\"Med-relevant\", \"New protein coding sequence\", \"Med-relevant new protein coding sequence\", \n",
    "                                \"Brain disease relevant\", \"Brain disease relevant new protein coding sequence\"])\n",
    "for container in ax.containers:\n",
    "    ax.bar_label(container)\n",
    "\n",
    "handles, labels = ax.get_legend_handles_labels()\n",
    "ax.legend(handles=handles[0:], labels=labels[0:])\n",
    "    \n",
    "ax.set(ylim=(0, 950))\n",
    "plt.ylabel('Number of new transcripts\\nsince 2019 (Median CPM > 1)')\n",
    "ax.set(xticklabels=[], xlabel=\"\")\n",
    "ax.tick_params(bottom=False)\n",
    "plt.legend(fontsize=7, loc=\"upper right\")\n",
    "\n",
    "plt.savefig('../figures/subcategories_number_of_new_transcripts_since_2019_expressed_in_brain.pdf', \n",
    "            dpi=600, transparent=True, bbox_inches=\"tight\")\n",
    "\n",
    "plt.show()"
   ]
  },
  {
   "cell_type": "code",
   "execution_count": 40,
   "id": "c4c50b0e",
   "metadata": {},
   "outputs": [],
   "source": [
    "## Create dataframe to store percent expression\n",
    "percent_expression_df = pd.DataFrame()"
   ]
  },
  {
   "cell_type": "code",
   "execution_count": 41,
   "id": "4bbb8fd4",
   "metadata": {},
   "outputs": [],
   "source": [
    "## Get percent expression from transcripts since 2019 for each subcategory\n",
    "df_tmp = pd.DataFrame()\n",
    "\n",
    "\n",
    "med_percent_expression = df.loc[df[\"gene_id\"].isin(ensembl_2023_med_relevant_median_1[\"gene_id\"])].copy()\n",
    "med_relevant_relative_abundance = relative_transcript_abundance(med_percent_expression)\n",
    "\n",
    "med_final_percent_expression = med_relevant_relative_abundance.loc[med_relevant_relative_abundance[\"transcript_id\"].isin(ensembl_2023_med_relevant_median_1[\"transcript_id\"])]\n",
    "med_final_percent_expression = med_final_percent_expression.groupby('gene_id')['relative_abundance_percent'].sum().reset_index()\n",
    "med_final_percent_expression = med_final_percent_expression.merge(gene_ref_2023[[\"gene_id\", \"gene_name\"]], how=\"inner\", on=\"gene_id\")\n",
    "\n",
    "df_tmp['Gene ID'] = med_final_percent_expression[\"gene_id\"].copy()\n",
    "df_tmp['Gene Name'] = med_final_percent_expression[\"gene_name\"].copy()\n",
    "df_tmp['Relative Abundance of New Transcripts Since 2019 (%)'] = med_final_percent_expression[\"relative_abundance_percent\"].copy()\n",
    "df_tmp[\"Category\"] = \"Med-relevant\"\n",
    "\n",
    "percent_expression_df = pd.concat([percent_expression_df, df_tmp])"
   ]
  },
  {
   "cell_type": "code",
   "execution_count": 42,
   "id": "144d0a47",
   "metadata": {},
   "outputs": [],
   "source": [
    "## Get percent expression from transcripts since 2019 for each subcategory\n",
    "df_tmp = pd.DataFrame()\n",
    "\n",
    "cds_percent_expression = df.loc[df[\"gene_id\"].isin(ensembl_2023_new_cds_median_1[\"gene_id\"])].copy()\n",
    "cds_relevant_relative_abundance = relative_transcript_abundance(cds_percent_expression)\n",
    "\n",
    "cds_final_percent_expression = cds_relevant_relative_abundance.loc[cds_relevant_relative_abundance[\"transcript_id\"].isin(ensembl_2023_new_cds_median_1[\"transcript_id\"])]\n",
    "cds_final_percent_expression = cds_final_percent_expression.groupby('gene_id')['relative_abundance_percent'].sum().reset_index()\n",
    "cds_final_percent_expression = cds_final_percent_expression.merge(gene_ref_2023[[\"gene_id\", \"gene_name\"]], how=\"inner\", on=\"gene_id\")\n",
    "\n",
    "df_tmp['Gene ID'] = cds_final_percent_expression[\"gene_id\"].copy()\n",
    "df_tmp['Gene Name'] = cds_final_percent_expression[\"gene_name\"].copy()\n",
    "df_tmp['Relative Abundance of New Transcripts Since 2019 (%)'] = cds_final_percent_expression[\"relative_abundance_percent\"].copy()\n",
    "df_tmp[\"Category\"] = \"New protein coding sequence\"\n",
    "\n",
    "percent_expression_df = pd.concat([percent_expression_df, df_tmp])"
   ]
  },
  {
   "cell_type": "code",
   "execution_count": 43,
   "id": "93f9a34a",
   "metadata": {},
   "outputs": [],
   "source": [
    "## Get percent expression from transcripts since 2019 for each subcategory\n",
    "df_tmp = pd.DataFrame()\n",
    "\n",
    "\n",
    "med_cds_percent_expression = df.loc[df[\"gene_id\"].isin(ensembl_2023_med_relevant_new_cds_median_1[\"gene_id\"])].copy()\n",
    "med_cds_relevant_relative_abundance = relative_transcript_abundance(med_cds_percent_expression)\n",
    "\n",
    "med_cds_final_percent_expression = med_cds_relevant_relative_abundance.loc[med_cds_relevant_relative_abundance[\"transcript_id\"].isin(ensembl_2023_med_relevant_new_cds_median_1[\"transcript_id\"])]\n",
    "med_cds_final_percent_expression = med_cds_final_percent_expression.groupby('gene_id')['relative_abundance_percent'].sum().reset_index()\n",
    "med_cds_final_percent_expression = med_cds_final_percent_expression.merge(gene_ref_2023[[\"gene_id\", \"gene_name\"]], how=\"inner\", on=\"gene_id\")\n",
    "\n",
    "df_tmp['Gene ID'] = med_cds_final_percent_expression[\"gene_id\"].copy()\n",
    "df_tmp['Gene Name'] = med_cds_final_percent_expression[\"gene_name\"].copy()\n",
    "df_tmp['Relative Abundance of New Transcripts Since 2019 (%)'] = med_cds_final_percent_expression[\"relative_abundance_percent\"].copy()\n",
    "df_tmp[\"Category\"] = \"Med-relevant new protein coding sequence\"\n",
    "\n",
    "percent_expression_df = pd.concat([percent_expression_df, df_tmp])"
   ]
  },
  {
   "cell_type": "code",
   "execution_count": 44,
   "id": "7b98812a",
   "metadata": {},
   "outputs": [],
   "source": [
    "## Get percent expression from transcripts since 2019 for each subcategory\n",
    "df_tmp = pd.DataFrame()\n",
    "\n",
    "\n",
    "brain_percent_expression = df.loc[df[\"gene_id\"].isin(ensembl_2023_brain_relevant_median_1[\"gene_id\"])].copy()\n",
    "brain_relevant_relative_abundance = relative_transcript_abundance(brain_percent_expression)\n",
    "\n",
    "brain_final_percent_expression = brain_relevant_relative_abundance.loc[brain_relevant_relative_abundance[\"transcript_id\"].isin(ensembl_2023_brain_relevant_median_1[\"transcript_id\"])]\n",
    "brain_final_percent_expression = brain_final_percent_expression.groupby('gene_id')['relative_abundance_percent'].sum().reset_index()\n",
    "brain_final_percent_expression = brain_final_percent_expression.merge(gene_ref_2023[[\"gene_id\", \"gene_name\"]], how=\"inner\", on=\"gene_id\")\n",
    "\n",
    "df_tmp['Gene ID'] = brain_final_percent_expression[\"gene_id\"].copy()\n",
    "df_tmp['Gene Name'] = brain_final_percent_expression[\"gene_name\"].copy()\n",
    "df_tmp['Relative Abundance of New Transcripts Since 2019 (%)'] = brain_final_percent_expression[\"relative_abundance_percent\"].copy()\n",
    "df_tmp[\"Category\"] = \"Brain disease relevant\"\n",
    "\n",
    "percent_expression_df = pd.concat([percent_expression_df, df_tmp])"
   ]
  },
  {
   "cell_type": "code",
   "execution_count": 45,
   "id": "e58b6207",
   "metadata": {},
   "outputs": [],
   "source": [
    "## Get percent expression from transcripts since 2019 for each subcategory\n",
    "df_tmp = pd.DataFrame()\n",
    "\n",
    "\n",
    "brain_new_prot_percent_expression = df.loc[df[\"gene_id\"].isin(ensembl_2023_brain_relevant_new_cds_median_1[\"gene_id\"])].copy()\n",
    "brain_new_prot_relevant_relative_abundance = relative_transcript_abundance(brain_new_prot_percent_expression)\n",
    "\n",
    "brain_new_prot_final_percent_expression = brain_new_prot_relevant_relative_abundance.loc[brain_new_prot_relevant_relative_abundance[\"transcript_id\"].isin(ensembl_2023_brain_relevant_new_cds_median_1[\"transcript_id\"])]\n",
    "brain_new_prot_final_percent_expression = brain_new_prot_final_percent_expression.groupby('gene_id')['relative_abundance_percent'].sum().reset_index()\n",
    "brain_new_prot_final_percent_expression = brain_new_prot_final_percent_expression.merge(gene_ref_2023[[\"gene_id\", \"gene_name\"]], how=\"inner\", on=\"gene_id\")\n",
    "\n",
    "df_tmp['Gene ID'] = brain_new_prot_final_percent_expression[\"gene_id\"].copy()\n",
    "df_tmp['Gene Name'] = brain_new_prot_final_percent_expression[\"gene_name\"].copy()\n",
    "df_tmp['Relative Abundance of New Transcripts Since 2019 (%)'] = brain_new_prot_final_percent_expression[\"relative_abundance_percent\"].copy()\n",
    "df_tmp[\"Category\"] = \"Brain disease relevant new protein coding sequence\"\n",
    "\n",
    "percent_expression_df = pd.concat([percent_expression_df, df_tmp])"
   ]
  },
  {
   "cell_type": "code",
   "execution_count": 46,
   "id": "7d02da43",
   "metadata": {},
   "outputs": [
    {
     "data": {
      "image/png": "[encoded data removed]",
      "text/plain": [
       "<Figure size 708.661x354.331 with 1 Axes>"
      ]
     },
     "metadata": {},
     "output_type": "display_data"
    }
   ],
   "source": [
    "ax = sns.boxplot(data=percent_expression_df, y=\"Relative Abundance of New Transcripts Since 2019 (%)\", x=\"Category\", \n",
    "                 hue=\"Category\",\n",
    "            palette=[ggplot2_colors[2], ggplot2_colors[0], ggplot2_colors[5], ggplot2_colors[1], ggplot2_colors[6]], \n",
    "                 saturation=1, dodge=False, showfliers=False)\n",
    "\n",
    "sns.stripplot(data=percent_expression_df, y=\"Relative Abundance of New Transcripts Since 2019 (%)\", x=\"Category\",\n",
    "             color=\"#4d4d4d\", size=3)\n",
    "\n",
    "\n",
    "ax.set(ylim=(-10, 110))\n",
    "ax.set(xlim=(-0.8, 4.8))\n",
    "ax.set(xticklabels=[], ylabel=\"Relative Abundance of \\nnew transcripts Since 2019 (%)\", xlabel=\"\")\n",
    "ax.tick_params(bottom=False)\n",
    "\n",
    "plt.legend([],[], frameon=False)\n",
    "\n",
    "plt.savefig('../figures/subcategories_relative_abundance_of_new_transcripts_since_2019_expressed_in_brain.pdf',  \n",
    "            dpi=600, transparent=True, bbox_inches=\"tight\")\n",
    "\n",
    "plt.show()"
   ]
  },
  {
   "cell_type": "code",
   "execution_count": 47,
   "id": "5dccf5f8",
   "metadata": {},
   "outputs": [],
   "source": [
    "brain_disease_relevant_since_2019 = percent_expression_df.loc[percent_expression_df[\"Category\"\n",
    "                                                            ].str.contains(\"Brain disease relevant new\")]\n",
    "\n",
    "brain_disease_relevant_since_2019.columns = [\"gene_id\", \"Gene Name\", \"Relative Abundance of New Transcripts Since 2019 (%)\",\n",
    "                                            \"Category\"]\n",
    "\n",
    "brain_disease_relevant_since_2019 = brain_disease_relevant_since_2019.merge(\n",
    "                                        brain_disease_annotations, on=\"gene_id\", how=\"inner\")"
   ]
  },
  {
   "cell_type": "code",
   "execution_count": 48,
   "id": "6b946e08",
   "metadata": {},
   "outputs": [],
   "source": [
    "brain_relevant_new_cds_gene_list = [\"ADAM17\", \"ABCA1\", \"GBF1\", \"ASXL3\", \"KIF5A\", \"VCP\", \"SHANK3\", \"SOX6\", \"CTNND1\", \"RHOA\"]\n",
    "\n",
    "brain_relevant_new_cds_examples = percent_expression_df.loc[percent_expression_df[\"Category\"] == \"Brain disease relevant new protein coding sequence\"].copy()\n",
    "brain_relevant_new_cds_examples = brain_relevant_new_cds_examples.loc[brain_relevant_new_cds_examples[\"Gene Name\"].isin(brain_relevant_new_cds_gene_list)]"
   ]
  },
  {
   "cell_type": "code",
   "execution_count": 49,
   "id": "becba6c2",
   "metadata": {
    "scrolled": true
   },
   "outputs": [
    {
     "data": {
      "image/png": "[encoded data removed]",
      "text/plain": [
       "<Figure size 708.661x354.331 with 1 Axes>"
      ]
     },
     "metadata": {},
     "output_type": "display_data"
    }
   ],
   "source": [
    "## Create and save graph showing number of genes with multiple protein coding isoforms (AVG CPM > 1)\n",
    "\n",
    "ax = sns.barplot(data=brain_relevant_new_cds_examples, y=\"Gene Name\", x=\"Relative Abundance of New Transcripts Since 2019 (%)\",\n",
    "            palette=[ggplot2_colors[4]], saturation=1, \n",
    "            order=[\"ABCA1\", \"ADAM17\", \"GBF1\", \"ASXL3\", \"KIF5A\", \"VCP\", \"SHANK3\", \"SOX6\", \"CTNND1\", \"RHOA\"],\n",
    "            width=0.6)\n",
    "\n",
    "ax.set(xlim=(0, 100))\n",
    "plt.xlabel(\"Relative Abundance (%)\")\n",
    "plt.ylabel(\"Gene body transcripts with \\nnew protein coding sequence since 2019\")\n",
    "ax.set_ylim(9.8, -0.8)\n",
    "\n",
    "\n",
    "plt.savefig('../figures/poster_children_genes_expressed_in_brain_since_2019.pdf', \n",
    "            dpi=600, transparent=True, bbox_inches=\"tight\")\n",
    "\n",
    "plt.show()"
   ]
  }
 ],
 "metadata": {
  "kernelspec": {
   "display_name": "Python 3 (ipykernel)",
   "language": "python",
   "name": "python3"
  },
  "language_info": {
   "codemirror_mode": {
    "name": "ipython",
    "version": 3
   },
   "file_extension": ".py",
   "mimetype": "text/x-python",
   "name": "python",
   "nbconvert_exporter": "python",
   "pygments_lexer": "ipython3",
   "version": "3.10.10"
  }
 },
 "nbformat": 4,
 "nbformat_minor": 5
}
